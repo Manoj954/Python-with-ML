{
 "cells": [
  {
   "cell_type": "code",
   "execution_count": 1,
   "metadata": {},
   "outputs": [
    {
     "name": "stdout",
     "output_type": "stream",
     "text": [
      "Number of ticks since 12:00am, January 1, 1970: 1549335792.5984747\n"
     ]
    }
   ],
   "source": [
    "import time;  # This is required to include time module.\n",
    "ticks = time.time()\n",
    "print(\"Number of ticks since 12:00am, January 1, 1970:\", ticks)"
   ]
  },
  {
   "cell_type": "code",
   "execution_count": 2,
   "metadata": {},
   "outputs": [
    {
     "name": "stdout",
     "output_type": "stream",
     "text": [
      "Local current time : time.struct_time(tm_year=2019, tm_mon=2, tm_mday=5, tm_hour=8, tm_min=34, tm_sec=0, tm_wday=1, tm_yday=36, tm_isdst=0)\n"
     ]
    }
   ],
   "source": [
    "localtime = time.localtime(time.time())\n",
    "print(\"Local current time :\", localtime)"
   ]
  },
  {
   "cell_type": "code",
   "execution_count": 3,
   "metadata": {},
   "outputs": [
    {
     "name": "stdout",
     "output_type": "stream",
     "text": [
      "Local current time : Tue Feb  5 08:35:17 2019\n"
     ]
    }
   ],
   "source": [
    "localtime = time.asctime( time.localtime(time.time()) )\n",
    "print(\"Local current time :\", localtime)"
   ]
  },
  {
   "cell_type": "code",
   "execution_count": 4,
   "metadata": {},
   "outputs": [
    {
     "name": "stdout",
     "output_type": "stream",
     "text": [
      "Here is the calendar:\n",
      "    January 2008\n",
      "Mo Tu We Th Fr Sa Su\n",
      "    1  2  3  4  5  6\n",
      " 7  8  9 10 11 12 13\n",
      "14 15 16 17 18 19 20\n",
      "21 22 23 24 25 26 27\n",
      "28 29 30 31\n",
      "\n"
     ]
    }
   ],
   "source": [
    "import calendar\n",
    "\n",
    "cal = calendar.month(2008, 1)\n",
    "print(\"Here is the calendar:\")\n",
    "print(cal)"
   ]
  },
  {
   "cell_type": "code",
   "execution_count": 5,
   "metadata": {},
   "outputs": [],
   "source": [
    "def some_function():\n",
    "    text = request.form.get('params')\n",
    "    pyArgs = passingparams()\n",
    "    pyArgs.country='us'\n",
    "    pyArgs.env='prod'\n",
    "    pyArgs.promotions=['BL_6094_0015']\n",
    "    pyArgs.destdir='.'\n",
    "    output=[]\n",
    "    if text is not None:        \n",
    "        prettyTC=myfunction(pyArgs)\n",
    "        for i in prettyTC:\n",
    "            output.append(prettyTC[i].get_html_string(attributes = {\"class\": \"foo\"}))\n",
    "        print(output)\n",
    "        state=True\n",
    "    return render_template(\n",
    "        'submit.html',**locals())"
   ]
  },
  {
   "cell_type": "code",
   "execution_count": 7,
   "metadata": {},
   "outputs": [],
   "source": [
    "def printme( str ):\n",
    "   \"This prints a passed string into this function\"\n",
    "   print(str)\n",
    "   return"
   ]
  },
  {
   "cell_type": "code",
   "execution_count": 8,
   "metadata": {},
   "outputs": [
    {
     "name": "stdout",
     "output_type": "stream",
     "text": [
      "some string\n"
     ]
    }
   ],
   "source": [
    "printme(\"some string\")"
   ]
  },
  {
   "cell_type": "code",
   "execution_count": 9,
   "metadata": {},
   "outputs": [],
   "source": [
    "def changeme( mylist ):\n",
    "   \"This changes a passed list into this function\"\n",
    "   mylist.append([1,2,3,4]);\n",
    "   print(\"Values inside the function: \", mylist)\n",
    "   return"
   ]
  },
  {
   "cell_type": "code",
   "execution_count": 10,
   "metadata": {},
   "outputs": [
    {
     "name": "stdout",
     "output_type": "stream",
     "text": [
      "Values inside the function:  [10, 20, 30, [1, 2, 3, 4]]\n",
      "Values outside the function:  [10, 20, 30, [1, 2, 3, 4]]\n"
     ]
    }
   ],
   "source": [
    "mylist = [10,20,30];\n",
    "changeme( mylist );\n",
    "print(\"Values outside the function: \", mylist)"
   ]
  },
  {
   "cell_type": "code",
   "execution_count": 11,
   "metadata": {},
   "outputs": [],
   "source": [
    "def changeme( mylist ):\n",
    "   \"This changes a passed list into this function\"\n",
    "   mylist = [1,2,3,4]; # This would assig new reference in mylist\n",
    "   print(\"Values inside the function: \", mylist)\n",
    "   return"
   ]
  },
  {
   "cell_type": "code",
   "execution_count": 12,
   "metadata": {},
   "outputs": [
    {
     "name": "stdout",
     "output_type": "stream",
     "text": [
      "Values inside the function:  [1, 2, 3, 4]\n",
      "Values outside the function:  [10, 20, 30]\n"
     ]
    }
   ],
   "source": [
    "mylist = [10,20,30];\n",
    "changeme( mylist );\n",
    "print(\"Values outside the function: \", mylist)"
   ]
  },
  {
   "cell_type": "code",
   "execution_count": 18,
   "metadata": {},
   "outputs": [],
   "source": [
    "def printinfo( arg1, *vartuple ):\n",
    "   \"This prints a variable passed arguments\"\n",
    "   print(\"Output is: \")\n",
    "   print(arg1)\n",
    "   for var in vartuple:\n",
    "      print('nested loop ',var)\n",
    "   return;"
   ]
  },
  {
   "cell_type": "code",
   "execution_count": 19,
   "metadata": {},
   "outputs": [
    {
     "name": "stdout",
     "output_type": "stream",
     "text": [
      "Output is: \n",
      "10\n"
     ]
    }
   ],
   "source": [
    "printinfo( 10 )\n"
   ]
  },
  {
   "cell_type": "code",
   "execution_count": 20,
   "metadata": {},
   "outputs": [
    {
     "name": "stdout",
     "output_type": "stream",
     "text": [
      "Output is: \n",
      "70\n",
      "nested loop  60\n",
      "nested loop  50\n"
     ]
    }
   ],
   "source": [
    "printinfo( 70, 60, 50 )"
   ]
  },
  {
   "cell_type": "code",
   "execution_count": 21,
   "metadata": {},
   "outputs": [],
   "source": [
    "sum = lambda arg1, arg2: arg1 + arg2;"
   ]
  },
  {
   "cell_type": "code",
   "execution_count": 22,
   "metadata": {},
   "outputs": [
    {
     "data": {
      "text/plain": [
       "30"
      ]
     },
     "execution_count": 22,
     "metadata": {},
     "output_type": "execute_result"
    }
   ],
   "source": [
    "sum(10,20)"
   ]
  },
  {
   "cell_type": "code",
   "execution_count": 24,
   "metadata": {},
   "outputs": [
    {
     "name": "stdout",
     "output_type": "stream",
     "text": [
      "Enter your input: [x*5 for x in range(2,10,2)]\n"
     ]
    }
   ],
   "source": [
    "str = input(\"Enter your input: \");"
   ]
  },
  {
   "cell_type": "code",
   "execution_count": 25,
   "metadata": {},
   "outputs": [
    {
     "data": {
      "text/plain": [
       "'[x*5 for x in range(2,10,2)]'"
      ]
     },
     "execution_count": 25,
     "metadata": {},
     "output_type": "execute_result"
    }
   ],
   "source": [
    "str"
   ]
  },
  {
   "cell_type": "code",
   "execution_count": 26,
   "metadata": {},
   "outputs": [
    {
     "name": "stdout",
     "output_type": "stream",
     "text": [
      "Enter your input: [x*5 for x in range(2,10,2)]\n",
      "Received input is :  [x*5 for x in range(2,10,2)]\n"
     ]
    }
   ],
   "source": [
    "str = input(\"Enter your input: \"); \n",
    "print (\"Received input is : \", str)\n"
   ]
  },
  {
   "cell_type": "code",
   "execution_count": 27,
   "metadata": {},
   "outputs": [
    {
     "data": {
      "text/plain": [
       "[10, 20, 30, 40]"
      ]
     },
     "execution_count": 27,
     "metadata": {},
     "output_type": "execute_result"
    }
   ],
   "source": [
    "eval(str)"
   ]
  },
  {
   "cell_type": "code",
   "execution_count": 28,
   "metadata": {},
   "outputs": [],
   "source": [
    "path=\"D:\\\\Mark\\\\data\\\\h-1b-visa\\\\h-1b-visa\\\\h1b_data.csv\"\n",
    "myfile=open(path,'r')"
   ]
  },
  {
   "cell_type": "code",
   "execution_count": 29,
   "metadata": {},
   "outputs": [],
   "source": [
    "import csv"
   ]
  },
  {
   "cell_type": "code",
   "execution_count": 31,
   "metadata": {},
   "outputs": [],
   "source": [
    "csv_reader = csv.reader(myfile, skipinitialspace=True)"
   ]
  },
  {
   "cell_type": "code",
   "execution_count": 38,
   "metadata": {},
   "outputs": [
    {
     "name": "stdout",
     "output_type": "stream",
     "text": [
      "['MCCHRYSTAL GROUP, LLC', 'CHIEF EXECUTIVES', 'PRESIDENT, NORTHEAST REGION']\n",
      "['CUDDLE BARN, INC.', 'CHIEF EXECUTIVES', 'CHIEF OPERATING OFFICER (COO)']\n"
     ]
    }
   ],
   "source": [
    "cnt=0\n",
    "for i in csv_reader:\n",
    "    print(\"file no {} is started\",i)\n",
    "    cnt+=1\n",
    "    if cnt==2:\n",
    "        break\n",
    "    "
   ]
  },
  {
   "cell_type": "code",
   "execution_count": 39,
   "metadata": {},
   "outputs": [],
   "source": [
    "import os"
   ]
  },
  {
   "cell_type": "code",
   "execution_count": 40,
   "metadata": {},
   "outputs": [],
   "source": [
    "os.mkdir(\"myfoldertest\")"
   ]
  },
  {
   "cell_type": "code",
   "execution_count": 41,
   "metadata": {},
   "outputs": [
    {
     "ename": "NameError",
     "evalue": "name 'getcwd' is not defined",
     "output_type": "error",
     "traceback": [
      "\u001b[1;31m---------------------------------------------------------------------------\u001b[0m",
      "\u001b[1;31mNameError\u001b[0m                                 Traceback (most recent call last)",
      "\u001b[1;32m<ipython-input-41-80c72379bb65>\u001b[0m in \u001b[0;36m<module>\u001b[1;34m()\u001b[0m\n\u001b[1;32m----> 1\u001b[1;33m \u001b[0mgetcwd\u001b[0m\u001b[1;33m(\u001b[0m\u001b[1;33m)\u001b[0m\u001b[1;33m\u001b[0m\u001b[0m\n\u001b[0m",
      "\u001b[1;31mNameError\u001b[0m: name 'getcwd' is not defined"
     ]
    }
   ],
   "source": [
    "getcwd()\n"
   ]
  },
  {
   "cell_type": "code",
   "execution_count": 42,
   "metadata": {},
   "outputs": [
    {
     "data": {
      "text/plain": [
       "'C:\\\\Users\\\\M1046091\\\\PythonClass'"
      ]
     },
     "execution_count": 42,
     "metadata": {},
     "output_type": "execute_result"
    }
   ],
   "source": [
    "pwd()"
   ]
  },
  {
   "cell_type": "code",
   "execution_count": 43,
   "metadata": {},
   "outputs": [
    {
     "data": {
      "text/plain": [
       "'C:\\\\Users\\\\M1046091\\\\PythonClass'"
      ]
     },
     "execution_count": 43,
     "metadata": {},
     "output_type": "execute_result"
    }
   ],
   "source": [
    "os.getcwd()"
   ]
  },
  {
   "cell_type": "code",
   "execution_count": 44,
   "metadata": {},
   "outputs": [
    {
     "data": {
      "text/plain": [
       "'C:\\\\Users\\\\M1046091\\\\PythonClass'"
      ]
     },
     "execution_count": 44,
     "metadata": {},
     "output_type": "execute_result"
    }
   ],
   "source": [
    "pwd()"
   ]
  },
  {
   "cell_type": "code",
   "execution_count": 45,
   "metadata": {},
   "outputs": [
    {
     "name": "stdout",
     "output_type": "stream",
     "text": [
      "some codes\n",
      ":always happens\n"
     ]
    }
   ],
   "source": [
    "try:\n",
    "    print(\"some codes\")\n",
    "except:\n",
    "    print(\"error occur\")\n",
    "finally:\n",
    "    print(\":always happens\")"
   ]
  },
  {
   "cell_type": "code",
   "execution_count": null,
   "metadata": {},
   "outputs": [],
   "source": [
    "for files in directory:\n",
    "    print(\"file no {}\",files)\n",
    "    print(\"started at :\",time.now())\n",
    "    for row in files:\n",
    "        print(row)\n",
    "    print(\"completed at :\",time.now())\n",
    "    \n",
    "print(\"all files proccessd successfully..\")"
   ]
  }
 ],
 "metadata": {
  "kernelspec": {
   "display_name": "Python (condaOpenCV)",
   "language": "python",
   "name": "condaopencv"
  },
  "language_info": {
   "codemirror_mode": {
    "name": "ipython",
    "version": 3
   },
   "file_extension": ".py",
   "mimetype": "text/x-python",
   "name": "python",
   "nbconvert_exporter": "python",
   "pygments_lexer": "ipython3",
   "version": "3.5.5"
  }
 },
 "nbformat": 4,
 "nbformat_minor": 2
}
